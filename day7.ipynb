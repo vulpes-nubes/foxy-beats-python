{
 "cells": [
  {
   "cell_type": "markdown",
   "metadata": {},
   "source": [
    "This is day 7, there has been a huge gap between coding days because of personal resons and a lack of motivation ^^ it's now time to get back into this !!\n",
    "- today we are learning about sets, and more\n",
    "- as a reminder : sets are unordered\n",
    "- in the case of sets the values True and False are equal to 1 and 0 respectively and are interpreted as such"
   ]
  },
  {
   "cell_type": "code",
   "execution_count": 12,
   "metadata": {},
   "outputs": [
    {
     "name": "stdout",
     "output_type": "stream",
     "text": [
      "{1, 2, 3, 'set', 4, 5, 'this', 'a', 'is'}\n",
      "{1, 2, 3, 'set', 4, 5, 'this', 'a', 'is'}\n",
      "{1, 2, 3, 'set', 4, 5, 6, 'also', 'this', 'a', 'is'}\n",
      "{2, 3, 4, 5}\n",
      "{'a', 'is', 'this', 'set'}\n",
      "{1}\n",
      "{'also'}\n",
      "{1, 2, 3, 4, 5, 'also'}\n"
     ]
    }
   ],
   "source": [
    "set1 = {\"this\", \"is\", \"a\", \"set\"}\n",
    "set2 = {1, 2, 3, 4, 5}\n",
    "set3 = {\"this\", \"is\", \"also\", \"a\", \"set\"}\n",
    "set4 = {2, 3, 4, 5, 6}\n",
    "#now we modifiy them\n",
    "set5 = set1.union(set2) #joins the two\n",
    "print(set5)\n",
    "set6 = set1\n",
    "set6.update(set2) #also joins but changes the original one (thus the update)\n",
    "print(set6)\n",
    "set7 = set1 | set2 | set3 | set4 #joins the sets and ignores duplicates\n",
    "print(set7)\n",
    "set8 = set2.intersection(set4) #keeps only duplicates\n",
    "set9 = set1 & set3 #same as above but shorter\n",
    "print(set8)\n",
    "print(set9)\n",
    "set10 = set2.difference(set4) #this looks for only what is different and returns it\n",
    "set11 = set3 - set1 #same thing but shorter\n",
    "print(set10)\n",
    "print(set11)\n",
    "set12 = set1.symmetric_difference(set3) #keeps only things that are not present in both sets\n",
    "print(set12)"
   ]
  },
  {
   "cell_type": "markdown",
   "metadata": {},
   "source": [
    "Moving on to Python dictionaries\n",
    "These will probably be the most useful for my work"
   ]
  },
  {
   "cell_type": "code",
   "execution_count": 28,
   "metadata": {},
   "outputs": [
    {
     "name": "stdout",
     "output_type": "stream",
     "text": [
      "4\n",
      "{'word': 'fox', 'type': 'noun', 'definition': 'The cutest animal on the planet', 'petability_level': 1000}\n",
      "{'word': 'whale', 'type': 'noun', 'definition': \"wifey's favourite animal\", 'petability_level': 'difficult unless you can swim really well'}\n",
      "fox\n",
      "whale\n",
      "dict_keys(['word', 'type', 'definition', 'petability_level'])\n",
      "dict_keys(['word', 'type', 'definition', 'petability_level', 'cuteness_level'])\n",
      "dict_values(['fox', 'noun', 'The cutest animal on the planet', 1000, 9999])\n",
      "dict_values(['fox', 'noun', 'The cutest animal on the planet', 1000, 99999])\n",
      "dict_items([('word', 'fox'), ('type', 'noun'), ('definition', 'The cutest animal on the planet'), ('petability_level', 1000), ('cuteness_level', 99999)])\n",
      "dict_items([('word', 'fox'), ('type', 'noun'), ('definition', 'The cutest and most adorable animal to ever exist'), ('petability_level', 1000), ('cuteness_level', 99999)])\n",
      "Yes this dict has a type key\n",
      "{'word': 'whale', 'type': 'noun', 'definition': \"wifey's favourite animal\", 'petability_level': 'difficult unless you can swim really well'}\n"
     ]
    }
   ],
   "source": [
    "myfirstDict = {\n",
    "    \"word\" : \"fox\",\n",
    "    \"type\" : \"noun\",\n",
    "    \"definition\" : \"The cutest animal on the planet\",\n",
    "    \"petability_level\" : 1000\n",
    "} #creates a dictionary the long way\n",
    "print(len(myfirstDict)) #gives the number of items in the dictionary\n",
    "aSecondDict = dict(word = \"whale\", type = \"noun\", definition = \"wifey's favourite animal\", petability_level = \"difficult unless you can swim really well\") #creates a dictionary the short way\n",
    "print(myfirstDict)\n",
    "print(aSecondDict)\n",
    "a = myfirstDict[\"word\"] #gets the item at specific key\n",
    "print(a)\n",
    "b = aSecondDict.get(\"word\") #same as above \n",
    "print(b)\n",
    "c = myfirstDict.keys() #produces a list of the dict keys\n",
    "print(c)\n",
    "myfirstDict[\"cuteness_level\"] = 9999 #adds another key and it content\n",
    "d = myfirstDict.keys()\n",
    "print(d)\n",
    "e = myfirstDict.values() #returns the data/values stored in the dict\n",
    "print(e)\n",
    "myfirstDict[\"cuteness_level\"] = 99999 #updates the value\n",
    "e = myfirstDict.values()\n",
    "print(e)\n",
    "f = myfirstDict.items() #this views the dictionary items so changes are reflected in the variable\n",
    "print(f)\n",
    "myfirstDict[\"definition\"] = \"The cutest and most adorable animal to ever exist\"\n",
    "print(f)\n",
    "#to chack is a key exists in the dict we use an if\n",
    "if \"type\" in myfirstDict :\n",
    "    print(\"Yes this dict has a type key\")\n",
    "\n",
    "#changing values is as easy as disctname[key name] = new value, but there is another way usring updates : see bellow\n",
    "myfirstDict.update({\"cuteness_level\" : 9999}) #it must be formulated as though a dict\n",
    "#it can also be used to add new keys and data\n",
    "aSecondDict.update({\"coolness_level\" : 9999})\n",
    "aSecondDict.pop(\"coolness_level\") #this removes a data point and key\n",
    "print(aSecondDict)\n"
   ]
  }
 ],
 "metadata": {
  "kernelspec": {
   "display_name": "Python 3",
   "language": "python",
   "name": "python3"
  },
  "language_info": {
   "codemirror_mode": {
    "name": "ipython",
    "version": 3
   },
   "file_extension": ".py",
   "mimetype": "text/x-python",
   "name": "python",
   "nbconvert_exporter": "python",
   "pygments_lexer": "ipython3",
   "version": "3.10.12"
  }
 },
 "nbformat": 4,
 "nbformat_minor": 2
}

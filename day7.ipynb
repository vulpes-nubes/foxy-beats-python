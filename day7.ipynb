{
 "cells": [
  {
   "cell_type": "markdown",
   "metadata": {},
   "source": [
    "This is day 7, there has been a huge gap between coding days because of personal resons and a lack of motivation ^^ it's now time to get back into this !!\n",
    "- today we are learning about sets, and more\n",
    "- as a reminder : sets are unordered\n",
    "- in the case of sets the values True and False are equal to 1 and 0 respectively and are interpreted as such"
   ]
  },
  {
   "cell_type": "code",
   "execution_count": 12,
   "metadata": {},
   "outputs": [
    {
     "name": "stdout",
     "output_type": "stream",
     "text": [
      "{1, 2, 3, 'set', 4, 5, 'this', 'a', 'is'}\n",
      "{1, 2, 3, 'set', 4, 5, 'this', 'a', 'is'}\n",
      "{1, 2, 3, 'set', 4, 5, 6, 'also', 'this', 'a', 'is'}\n",
      "{2, 3, 4, 5}\n",
      "{'a', 'is', 'this', 'set'}\n",
      "{1}\n",
      "{'also'}\n",
      "{1, 2, 3, 4, 5, 'also'}\n"
     ]
    }
   ],
   "source": [
    "set1 = {\"this\", \"is\", \"a\", \"set\"}\n",
    "set2 = {1, 2, 3, 4, 5}\n",
    "set3 = {\"this\", \"is\", \"also\", \"a\", \"set\"}\n",
    "set4 = {2, 3, 4, 5, 6}\n",
    "#now we modifiy them\n",
    "set5 = set1.union(set2) #joins the two\n",
    "print(set5)\n",
    "set6 = set1\n",
    "set6.update(set2) #also joins but changes the original one (thus the update)\n",
    "print(set6)\n",
    "set7 = set1 | set2 | set3 | set4 #joins the sets and ignores duplicates\n",
    "print(set7)\n",
    "set8 = set2.intersection(set4) #keeps only duplicates\n",
    "set9 = set1 & set3 #same as above but shorter\n",
    "print(set8)\n",
    "print(set9)\n",
    "set10 = set2.difference(set4) #this looks for only what is different and returns it\n",
    "set11 = set3 - set1 #same thing but shorter\n",
    "print(set10)\n",
    "print(set11)\n",
    "set12 = set1.symmetric_difference(set3) #keeps only things that are not present in both sets\n",
    "print(set12)"
   ]
  },
  {
   "cell_type": "markdown",
   "metadata": {},
   "source": [
    "Moving on to Python dictionaries\n",
    "These will probably be the most useful for my work"
   ]
  }
 ],
 "metadata": {
  "kernelspec": {
   "display_name": "Python 3",
   "language": "python",
   "name": "python3"
  },
  "language_info": {
   "codemirror_mode": {
    "name": "ipython",
    "version": 3
   },
   "file_extension": ".py",
   "mimetype": "text/x-python",
   "name": "python",
   "nbconvert_exporter": "python",
   "pygments_lexer": "ipython3",
   "version": "3.10.12"
  }
 },
 "nbformat": 4,
 "nbformat_minor": 2
}

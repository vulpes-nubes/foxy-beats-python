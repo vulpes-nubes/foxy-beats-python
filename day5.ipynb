{
 "cells": [
  {
   "cell_type": "markdown",
   "metadata": {},
   "source": [
    "Today we are doing more list comprehension with some of the basic code samples of the W3School and more\n"
   ]
  },
  {
   "cell_type": "code",
   "execution_count": 9,
   "metadata": {},
   "outputs": [
    {
     "name": "stdout",
     "output_type": "stream",
     "text": [
      "['apple', 'banana', 'mango']\n",
      "['kiwi']\n"
     ]
    }
   ],
   "source": [
    "fruits = [\"apple\", \"banana\", \"cherry\", \"kiwi\", \"mango\"]\n",
    "newlist = []\n",
    "\n",
    "for x in fruits:\n",
    "  if \"a\" in x:\n",
    "    newlist.append(x)\n",
    "print(newlist) \n",
    "newList2 =[]\n",
    "newList2 = [x for x in fruits if \"i\" in x]\n",
    "print(newList2)\n",
    "newList3 = []\n"
   ]
  },
  {
   "cell_type": "markdown",
   "metadata": {},
   "source": [
    "Going to try and make a new block for each new section to really make the most of this formating sytem"
   ]
  },
  {
   "cell_type": "code",
   "execution_count": 10,
   "metadata": {},
   "outputs": [
    {
     "name": "stdout",
     "output_type": "stream",
     "text": [
      "[0, 1, 2, 3, 4, 5, 6, 7, 8, 9, 10, 11, 12, 13, 14, 15, 16, 17, 18, 19]\n",
      "[6, 7, 8, 9, 10, 11, 12, 13, 14, 15, 16, 17, 18, 19]\n",
      "[6, 7, 8, 9, 10, 11, 12, 13, 14, 15, 16, 17, 18, 19, 20]\n"
     ]
    }
   ],
   "source": [
    "#This will be a range printer using the same system as above\n",
    "newList4 = [x for x in range(20)]\n",
    "print(newList4)\n",
    "newList4 = [x for x in range(20) if x>5]\n",
    "print(newList4)\n",
    "newList4.append(20) #just to make it go to 20\n",
    "print(newList4)"
   ]
  },
  {
   "cell_type": "markdown",
   "metadata": {},
   "source": [
    "Next step is to use expressions"
   ]
  },
  {
   "cell_type": "code",
   "execution_count": 13,
   "metadata": {},
   "outputs": [
    {
     "name": "stdout",
     "output_type": "stream",
     "text": [
      "['APPLE', 'BANANA', 'CHERRY', 'KIWI', 'MANGO']\n",
      "['what is this', 'what is this', 'what is this', 'what is this', 'what is this']\n",
      "['apple', 'orange', 'cherry', 'kiwi', 'mango']\n"
     ]
    }
   ],
   "source": [
    "newList5 = [x.upper() for x in fruits]\n",
    "print(newList5)\n",
    "newList5 = [\"what is this\" for x in fruits]\n",
    "print(newList5)\n",
    "newList5 = [x if x != \"banana\" else \"orange\" for x in fruits]\n",
    "print(newList5)"
   ]
  },
  {
   "cell_type": "markdown",
   "metadata": {},
   "source": [
    "Now we'll do some sorting and such"
   ]
  },
  {
   "cell_type": "code",
   "execution_count": 19,
   "metadata": {},
   "outputs": [
    {
     "name": "stdout",
     "output_type": "stream",
     "text": [
      "['in', 'mean', 'order', 'something', 'that', 'words']\n",
      "[43, 123, 54678, 56732, 89087, 98098, 123543, 134532, 134643, 5675678, 9876789, 67098987]\n",
      "['words', 'that', 'something', 'order', 'mean', 'in']\n"
     ]
    }
   ],
   "source": [
    "aNewList = [\"words\", \"that\", \"mean\", \"something\", \"in\", \"order\"]\n",
    "aNewList.sort() #sorts alphabetically\n",
    "print(aNewList)\n",
    "aNewList2 = [123, 43, 134643, 54678, 56732, 134532, 5675678, 67098987, 89087, 123543,9876789,98098]\n",
    "aNewList2.sort() #sorts numerically\n",
    "print(aNewList2)\n",
    "#aNewList.append(aNewList2)\n",
    "#aNewList.sort()\n",
    "#print(aNewList) -> gives typeError: '<' not supported between instances of 'list' and 'str' \n",
    "#so this doesn't work\n",
    "aNewList.sort(reverse= True) #sorts in inverse\n",
    "print(aNewList) "
   ]
  },
  {
   "cell_type": "code",
   "execution_count": null,
   "metadata": {},
   "outputs": [],
   "source": []
  }
 ],
 "metadata": {
  "kernelspec": {
   "display_name": "Python 3",
   "language": "python",
   "name": "python3"
  },
  "language_info": {
   "codemirror_mode": {
    "name": "ipython",
    "version": 3
   },
   "file_extension": ".py",
   "mimetype": "text/x-python",
   "name": "python",
   "nbconvert_exporter": "python",
   "pygments_lexer": "ipython3",
   "version": "3.9.6"
  }
 },
 "nbformat": 4,
 "nbformat_minor": 2
}

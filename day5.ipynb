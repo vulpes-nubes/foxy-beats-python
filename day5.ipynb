{
 "cells": [
  {
   "cell_type": "markdown",
   "metadata": {},
   "source": [
    "Today we are doing more list comprehension with some of the basic code samples of the W3School and more\n"
   ]
  },
  {
   "cell_type": "code",
   "execution_count": 29,
   "metadata": {},
   "outputs": [
    {
     "name": "stdout",
     "output_type": "stream",
     "text": [
      "['apple', 'banana', 'mango']\n",
      "['kiwi']\n"
     ]
    }
   ],
   "source": [
    "fruits = [\"apple\", \"banana\", \"cherry\", \"kiwi\", \"mango\"]\n",
    "newlist = []\n",
    "\n",
    "for x in fruits:\n",
    "  if \"a\" in x:\n",
    "    newlist.append(x)\n",
    "print(newlist) \n",
    "newList2 =[]\n",
    "newList2 = [x for x in fruits if \"i\" in x]\n",
    "print(newList2)\n",
    "newList3 = []\n"
   ]
  },
  {
   "cell_type": "markdown",
   "metadata": {},
   "source": [
    "Going to try and make a new block for each new section to really make the most of this formating sytem"
   ]
  },
  {
   "cell_type": "code",
   "execution_count": 30,
   "metadata": {},
   "outputs": [
    {
     "name": "stdout",
     "output_type": "stream",
     "text": [
      "[0, 1, 2, 3, 4, 5, 6, 7, 8, 9, 10, 11, 12, 13, 14, 15, 16, 17, 18, 19]\n",
      "[6, 7, 8, 9, 10, 11, 12, 13, 14, 15, 16, 17, 18, 19]\n",
      "[6, 7, 8, 9, 10, 11, 12, 13, 14, 15, 16, 17, 18, 19, 20]\n"
     ]
    }
   ],
   "source": [
    "#This will be a range printer using the same system as above\n",
    "newList4 = [x for x in range(20)]\n",
    "print(newList4)\n",
    "newList4 = [x for x in range(20) if x>5]\n",
    "print(newList4)\n",
    "newList4.append(20) #just to make it go to 20\n",
    "print(newList4)"
   ]
  },
  {
   "cell_type": "markdown",
   "metadata": {},
   "source": [
    "Next step is to use expressions"
   ]
  },
  {
   "cell_type": "code",
   "execution_count": 31,
   "metadata": {},
   "outputs": [
    {
     "name": "stdout",
     "output_type": "stream",
     "text": [
      "['APPLE', 'BANANA', 'CHERRY', 'KIWI', 'MANGO']\n",
      "['what is this', 'what is this', 'what is this', 'what is this', 'what is this']\n",
      "['apple', 'orange', 'cherry', 'kiwi', 'mango']\n"
     ]
    }
   ],
   "source": [
    "newList5 = [x.upper() for x in fruits]\n",
    "print(newList5)\n",
    "newList5 = [\"what is this\" for x in fruits]\n",
    "print(newList5)\n",
    "newList5 = [x if x != \"banana\" else \"orange\" for x in fruits]\n",
    "print(newList5)"
   ]
  },
  {
   "cell_type": "markdown",
   "metadata": {},
   "source": [
    "Now we'll do some sorting and such"
   ]
  },
  {
   "cell_type": "code",
   "execution_count": 32,
   "metadata": {},
   "outputs": [
    {
     "name": "stdout",
     "output_type": "stream",
     "text": [
      "['in', 'mean', 'order', 'something', 'that', 'words']\n",
      "[43, 123, 54678, 56732, 89087, 98098, 123543, 134532, 134643, 5675678, 9876789, 67098987]\n",
      "['words', 'that', 'something', 'order', 'mean', 'in']\n"
     ]
    }
   ],
   "source": [
    "aNewList = [\"words\", \"that\", \"mean\", \"something\", \"in\", \"order\"]\n",
    "aNewList.sort() #sorts alphabetically\n",
    "print(aNewList)\n",
    "aNewList2 = [123, 43, 134643, 54678, 56732, 134532, 5675678, 67098987, 89087, 123543,9876789,98098]\n",
    "aNewList2.sort() #sorts numerically\n",
    "print(aNewList2)\n",
    "#aNewList.append(aNewList2)\n",
    "#aNewList.sort()\n",
    "#print(aNewList) -> gives typeError: '<' not supported between instances of 'list' and 'str' \n",
    "#so this doesn't work\n",
    "aNewList.sort(reverse= True) #sorts in inverse\n",
    "print(aNewList) "
   ]
  },
  {
   "cell_type": "markdown",
   "metadata": {},
   "source": [
    "Now we'll create a function and use that to sort the lists out... interesting "
   ]
  },
  {
   "cell_type": "code",
   "execution_count": 33,
   "metadata": {},
   "outputs": [
    {
     "name": "stdout",
     "output_type": "stream",
     "text": [
      "[46, 21, 0, 89, 123, 345, 876, 890, 2345, 6789, 45654]\n"
     ]
    }
   ],
   "source": [
    "aSortablelist = [123, 345, 46, 6789, 2345, 876, 89, 21, 45654, 0, 890]\n",
    "def sortFunc(n): #creates a key for sorting as a function\n",
    "    return abs(n -42) #looks for numbers that are as close as possible to 42\n",
    "\n",
    "aSortablelist.sort(key = sortFunc) #uses my made up key\n",
    "print(aSortablelist)"
   ]
  },
  {
   "cell_type": "markdown",
   "metadata": {},
   "source": [
    "Now it's time to learn to copy lists and such"
   ]
  },
  {
   "cell_type": "code",
   "execution_count": 34,
   "metadata": {},
   "outputs": [
    {
     "name": "stdout",
     "output_type": "stream",
     "text": [
      "['ihzoefzfg', 'klqngqg', 'qlgazg', 'pqnfg', 'xsshg']\n",
      "['ihzoefzfg', 'klqngqg', 'qlgazg', 'pqnfg', 'xsshg']\n"
     ]
    }
   ],
   "source": [
    "aListToCopy = [\"ihzoefzfg\", \"klqngqg\", \"qlgazg\", \"pqnfg\", \"xsshg\"]\n",
    "aCopiedList = aListToCopy.copy()\n",
    "print(aCopiedList)\n",
    "aCopiedList2 = list(aListToCopy)\n",
    "print(aCopiedList2)"
   ]
  },
  {
   "cell_type": "markdown",
   "metadata": {},
   "source": [
    "Let's stick lists together now"
   ]
  },
  {
   "cell_type": "code",
   "execution_count": 36,
   "metadata": {},
   "outputs": [
    {
     "name": "stdout",
     "output_type": "stream",
     "text": [
      "[134536, 87656, 876, 0, 5678, 3456, 4567, 9876, 5432, 3456543, 34543, 987, 76546, 65434, 3456, 234, 876567, 'here', 'are', 'some', 'words']\n",
      "[134536, 87656, 876, 0, 5678, 3456, 4567, 9876, 5432, 3456543, 34543, 987, 76546, 65434, 3456, 234, 876567, 'here', 'are', 'some', 'words']\n"
     ]
    }
   ],
   "source": [
    "aListToJoinPart1 = [134536, 87656, 876, 0, 5678, 3456, 4567, 9876, 5432]\n",
    "aListToJoinPart2 = [3456543, 34543, 987, 76546, 65434, 3456, 234, 876567]\n",
    "aListWithText = [\"here\", \"are\", \"some\", \"words\"]\n",
    "\n",
    "aJoinedListVersion1 = aListToJoinPart1 + aListToJoinPart2 + aListWithText #adds all the lsits in a row\n",
    "print(aJoinedListVersion1)\n",
    "\n",
    "for x in aListToJoinPart2: #cycles through one list and adds it to the other \n",
    "    aListToJoinPart1.append(x)\n",
    "\n",
    "for x in aListWithText: #means I have to do this for each list\n",
    "    aListToJoinPart1.append(x)\n",
    "\n",
    "print(aListToJoinPart1)"
   ]
  },
  {
   "cell_type": "markdown",
   "metadata": {},
   "source": [
    "Next part is to learn about Tuples and especially their logic as 'non changing'"
   ]
  },
  {
   "cell_type": "code",
   "execution_count": 37,
   "metadata": {},
   "outputs": [
    {
     "name": "stdout",
     "output_type": "stream",
     "text": [
      "('hello', 'this', 'is', 'a', 'string', 'tuple')\n",
      "6\n"
     ]
    }
   ],
   "source": [
    "#let's start by creating one\n",
    "myBeautifulTuple = (\"hello\", \"this\", \"is\", \"a\", \"string\", \"tuple\")\n",
    "print(myBeautifulTuple)\n",
    "print(len(myBeautifulTuple))\n"
   ]
  }
 ],
 "metadata": {
  "kernelspec": {
   "display_name": "Python 3",
   "language": "python",
   "name": "python3"
  },
  "language_info": {
   "codemirror_mode": {
    "name": "ipython",
    "version": 3
   },
   "file_extension": ".py",
   "mimetype": "text/x-python",
   "name": "python",
   "nbconvert_exporter": "python",
   "pygments_lexer": "ipython3",
   "version": "3.9.6"
  }
 },
 "nbformat": 4,
 "nbformat_minor": 2
}

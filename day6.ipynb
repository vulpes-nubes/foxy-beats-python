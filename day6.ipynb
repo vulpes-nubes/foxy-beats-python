{
 "cells": [
  {
   "cell_type": "markdown",
   "metadata": {},
   "source": [
    "<H2>Here starts the 6th day of coding</H2>"
   ]
  },
  {
   "cell_type": "code",
   "execution_count": 10,
   "metadata": {},
   "outputs": [
    {
     "name": "stdout",
     "output_type": "stream",
     "text": [
      "('hello', 'this', 'is', 'a', 'string', 'tuple')\n",
      "6\n"
     ]
    }
   ],
   "source": [
    "#let's start by grabbing yesterday's Tuple\n",
    "myBeautifulTuple = (\"hello\", \"this\", \"is\", \"a\", \"string\", \"tuple\")\n",
    "print(myBeautifulTuple)\n",
    "print(len(myBeautifulTuple))\n",
    "tuple1 = (\"abc\", 34, True, 40, \"male\") #taking their code just to show that a tuple can have many data types\n"
   ]
  },
  {
   "cell_type": "markdown",
   "metadata": {},
   "source": [
    "Regarding the accessing of the tuple, it's the same as with lists so I'm not going to spend time on that today."
   ]
  },
  {
   "cell_type": "code",
   "execution_count": 11,
   "metadata": {},
   "outputs": [
    {
     "name": "stdout",
     "output_type": "stream",
     "text": [
      "Yes, it greeted you\n"
     ]
    }
   ],
   "source": [
    "if \"hello\" in myBeautifulTuple:\n",
    "    print(\"Yes, it greeted you\")\n"
   ]
  },
  {
   "cell_type": "markdown",
   "metadata": {},
   "source": [
    "To change a tuple, which you usually can't, you need to convert it to a list and then back again"
   ]
  },
  {
   "cell_type": "code",
   "execution_count": 12,
   "metadata": {},
   "outputs": [
    {
     "name": "stdout",
     "output_type": "stream",
     "text": [
      "('hello', 'a new word here', 'is', 'a', 'string', 'tuple')\n",
      "<class 'tuple'>\n"
     ]
    }
   ],
   "source": [
    "x = myBeautifulTuple\n",
    "y = list(x)\n",
    "y[1] = \"a new word here\"\n",
    "x = tuple(y)\n",
    "print(x)\n",
    "print(type(x))\n"
   ]
  },
  {
   "cell_type": "markdown",
   "metadata": {},
   "source": [
    "next is to unpack the tuple and print it into new variable"
   ]
  },
  {
   "cell_type": "code",
   "execution_count": 15,
   "metadata": {},
   "outputs": [
    {
     "name": "stdout",
     "output_type": "stream",
     "text": [
      "['hello', 'this', 'is', 'a']\n",
      "string\n",
      "tuple\n",
      "hello\n",
      "['this', 'is', 'a', 'string']\n",
      "tuple\n",
      "hello\n",
      "this\n",
      "['is', 'a', 'string', 'tuple']\n"
     ]
    }
   ],
   "source": [
    "(*purple, pink, red) = myBeautifulTuple\n",
    "print(purple)\n",
    "print(pink)\n",
    "print(red)\n",
    "(purple, *pink, red) = myBeautifulTuple\n",
    "print(purple)\n",
    "print(pink)\n",
    "print(red)\n",
    "(purple, pink, *red) = myBeautifulTuple\n",
    "print(purple)\n",
    "print(pink)\n",
    "print(red)\n"
   ]
  },
  {
   "cell_type": "markdown",
   "metadata": {},
   "source": [
    "Last bit on this : the index and count functions"
   ]
  },
  {
   "cell_type": "code",
   "execution_count": 16,
   "metadata": {},
   "outputs": [
    {
     "name": "stdout",
     "output_type": "stream",
     "text": [
      "3\n",
      "2\n"
     ]
    }
   ],
   "source": [
    "myNewerTuple = (\"green\", \"red\", \"orange\", \"blue\", \"red\", \"green\", \"green\", \"blue\")\n",
    "print(myNewerTuple.count(\"green\")) #counts the number of times the item is found\n",
    "print(myNewerTuple.index(\"orange\")) #looks for the position of the item \n"
   ]
  }
 ],
 "metadata": {
  "kernelspec": {
   "display_name": "Python 3",
   "language": "python",
   "name": "python3"
  },
  "language_info": {
   "codemirror_mode": {
    "name": "ipython",
    "version": 3
   },
   "file_extension": ".py",
   "mimetype": "text/x-python",
   "name": "python",
   "nbconvert_exporter": "python",
   "pygments_lexer": "ipython3",
   "version": "3.9.6"
  }
 },
 "nbformat": 4,
 "nbformat_minor": 2
}

{
 "cells": [
  {
   "cell_type": "markdown",
   "metadata": {},
   "source": [
    "Day 8 starts here, I really need to get myself into a useful level of coding skills"
   ]
  },
  {
   "cell_type": "markdown",
   "metadata": {},
   "source": [
    "Moving my dicts from day7 because I'm too lazy to re-create them all"
   ]
  },
  {
   "cell_type": "code",
   "execution_count": null,
   "metadata": {},
   "outputs": [],
   "source": [
    "myfirstDict = {\n",
    "    \"word\" : \"fox\",\n",
    "    \"type\" : \"noun\",\n",
    "    \"definition\" : \"The cutest animal on the planet\",\n",
    "    \"petability_level\" : 1000\n",
    "} #creates a dictionary the long way\n",
    "print(len(myfirstDict)) #gives the number of items in the dictionary\n",
    "aSecondDict = dict(word = \"whale\", type = \"noun\", definition = \"wifey's favourite animal\", petability_level = \"difficult unless you can swim really well\") #creates a dictionary the short way\n",
    "print(myfirstDict)\n",
    "print(aSecondDict)\n",
    "a = myfirstDict[\"word\"] #gets the item at specific key\n",
    "print(a)\n",
    "b = aSecondDict.get(\"word\") #same as above \n",
    "print(b)\n",
    "c = myfirstDict.keys() #produces a list of the dict keys\n",
    "print(c)\n",
    "myfirstDict[\"cuteness_level\"] = 9999 #adds another key and it content\n",
    "d = myfirstDict.keys()\n",
    "print(d)\n",
    "e = myfirstDict.values() #returns the data/values stored in the dict\n",
    "print(e)\n",
    "myfirstDict[\"cuteness_level\"] = 99999 #updates the value\n",
    "e = myfirstDict.values()\n",
    "print(e)\n",
    "f = myfirstDict.items() #this views the dictionary items so changes are reflected in the variable\n",
    "print(f)\n",
    "myfirstDict[\"definition\"] = \"The cutest and most adorable animal to ever exist\"\n",
    "print(f)\n",
    "#to chack is a key exists in the dict we use an if\n",
    "if \"type\" in myfirstDict :\n",
    "    print(\"Yes this dict has a type key\")\n",
    "\n",
    "#changing values is as easy as disctname[key name] = new value, but there is another way usring updates : see bellow\n",
    "myfirstDict.update({\"cuteness_level\" : 9999}) #it must be formulated as though a dict\n",
    "#it can also be used to add new keys and data\n",
    "aSecondDict.update({\"coolness_level\" : 9999})\n",
    "aSecondDict.pop(\"coolness_level\") #this removes a data point and key\n",
    "print(aSecondDict)\n",
    "#not going to use it now though there is a function 'del' that will remove an entire dict\n",
    "#there is also a 'clear' function which blanks a dict\n",
    "for x in myfirstDict: #prints all key names one by one\n",
    "    print(x) \n",
    "\n",
    "for x in myfirstDict.values(): #prints values one by one\n",
    "    print(x)\n",
    "\n",
    "for x in myfirstDict: #also prints values one by one\n",
    "    print(myfirstDict[x]) \n",
    "\n",
    "for x in myfirstDict.keys(): #prints keys one by one\n",
    "    print(x)\n",
    "\n",
    "for x, y in myfirstDict.items(): #prints keys and values as found by the items modifier\n",
    "    print(x, y)\n"
   ]
  },
  {
   "cell_type": "markdown",
   "metadata": {},
   "source": [
    "# Day 8 starts here for real"
   ]
  },
  {
   "cell_type": "code",
   "execution_count": null,
   "metadata": {},
   "outputs": [],
   "source": [
    "aNewDict = {\n",
    "    \"lemma\" : \"heck\",\n",
    "    \"definition\" : \"A useful word to shout when people are being obnoxious\",\n",
    "    \"origin\" : \"who cares, it's nice to use\",\n",
    "    \"use_cases\" : \"anytime you are pissed off\"\n",
    "}\n",
    "aDoubleHeck = aNewDict.copy()\n",
    "print(aDoubleHeck)\n",
    "aTripleHeck = dict(aDoubleHeck)\n",
    "print(aTripleHeck)\n",
    "\n",
    "#now going to work on nesting the dicts\n",
    "aMassiveHeck = {\n",
    "    \"heck1\" : {\n",
    "        \"usage\" : \"When people are noisy\",\n",
    "        \"frequency\" : \"Sadly too often\"\n",
    "    },\n",
    "    \"heck2\" : {\n",
    "        \"usage\" : \"When something doesn't work well\",\n",
    "        \"frequency\" : \"As rarely as possible but often too much\"\n",
    "    },\n",
    "    \"heck3\" : {\n",
    "        \"usage\" : \"To preceed the name 'Linda' when refereing to the meme\",\n",
    "        \"frenquency\" : \"Considering the niche, relatively often\"\n",
    "    }\n",
    "}\n",
    "print(aMassiveHeck[\"heck1\"][\"usage\"])\n",
    "print(aMassiveHeck[\"heck3\"][\"usage\"])\n",
    "\n",
    "for x, obj in aMassiveHeck.items():\n",
    "    print(x)\n",
    "    \n",
    "    for y in obj:\n",
    "        print(y + ':', obj[y])\n",
    "        \n"
   ]
  },
  {
   "cell_type": "markdown",
   "metadata": {},
   "source": [
    "Now moving on to the actually useful stuff : conditions\n",
    "For my notes : 'elif' is a else if equivalent\n",
    "If nothing works in the if and elif, an 'else' will give a final 'verdict'"
   ]
  },
  {
   "cell_type": "code",
   "execution_count": 18,
   "metadata": {},
   "outputs": [
    {
     "name": "stdout",
     "output_type": "stream",
     "text": [
      "324 is smaller than 432\n",
      "324 is not equal to 432\n",
      "324\n",
      "that 432 sure is big\n"
     ]
    }
   ],
   "source": [
    "a = 324\n",
    "b = 432\n",
    "c = 7\n",
    "\n",
    "if a < b: \n",
    "    print(a, \"is smaller than\", b)\n",
    "\n",
    "if a == b: \n",
    "    print(a, \"is equal to\", b)\n",
    "elif a > b:\n",
    "    print(a, \"is larger than\", b)\n",
    "elif a != b:\n",
    "    print(a, \"is not equal to\", b)\n",
    "else: \n",
    "    print(\"Well look, \", a, \"and\", b, \"are something else than what I can check\")\n",
    " \n",
    "print(a) if a < b else print(\"=\") if a == b else print(b) # this is a single line format and it's actually quite a challenge to use in my humble opinion\n",
    "\n",
    "if a < b and b > c:\n",
    "    print(\"that\", b, \"sure is big\")\n"
   ]
  }
 ],
 "metadata": {
  "kernelspec": {
   "display_name": "Python 3",
   "language": "python",
   "name": "python3"
  },
  "language_info": {
   "codemirror_mode": {
    "name": "ipython",
    "version": 3
   },
   "file_extension": ".py",
   "mimetype": "text/x-python",
   "name": "python",
   "nbconvert_exporter": "python",
   "pygments_lexer": "ipython3",
   "version": "3.10.12"
  }
 },
 "nbformat": 4,
 "nbformat_minor": 2
}
